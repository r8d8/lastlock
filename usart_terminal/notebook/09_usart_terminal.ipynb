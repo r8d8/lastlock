{
 "cells": [
  {
   "cell_type": "markdown",
   "metadata": {},
   "source": [
    "В данном ноутбуке вам предлагается написать различные обработчики для команд с компьютера.Также можно реализовать свой дополнительный набор команд под свои задачи."
   ]
  },
  {
   "cell_type": "markdown",
   "metadata": {},
   "source": [
    "## Подключение всех библиотек"
   ]
  },
  {
   "cell_type": "markdown",
   "metadata": {},
   "source": [
    "Сперва подключите все библиотеки уставленные в подготовительной статье"
   ]
  },
  {
   "cell_type": "code",
   "execution_count": null,
   "metadata": {},
   "outputs": [],
   "source": [
    "import serial\n",
    "import pyaudio\n",
    "import numpy as np\n",
    "import wave\n",
    "import scipy.signal as signal\n",
    "import warnings\n",
    "warnings.filterwarnings('ignore')"
   ]
  },
  {
   "cell_type": "markdown",
   "metadata": {},
   "source": [
    "## Стандартные функции для работы с UART"
   ]
  },
  {
   "cell_type": "markdown",
   "metadata": {},
   "source": [
    "Здесь уже заготовлены стандартные функции для работы с UART. Функции даны лишь для удобства и их использование обязательным не является."
   ]
  },
  {
   "cell_type": "code",
   "execution_count": null,
   "metadata": {},
   "outputs": [],
   "source": [
    "def serial_init(speed):\n",
    "    dev = serial.Serial(\n",
    "        # Здесь указывается устройство, с которым будет производится работа\n",
    "        # /dev/ttyUSBx - для Linux\n",
    "        # /dev/tty.SLAB_USBtoUART - для MacOS\n",
    "        port='/dev/ttyUSB0', \n",
    "        # Скорость передачи\n",
    "        baudrate=speed,\n",
    "        # Использование бита четности\n",
    "        parity=serial.PARITY_NONE,\n",
    "        # Длина стоп-бита\n",
    "        stopbits=serial.STOPBITS_ONE,\n",
    "        # Длина пакета\n",
    "        bytesize=serial.EIGHTBITS,\n",
    "        # Максимальное время ожидания устройства\n",
    "        timeout=0.1\n",
    "    )\n",
    "    return dev\n",
    "\n",
    "def serial_recv(dev):\n",
    "    # Для простоты макс. кол-во символов для чтения - 255. Время ожидания - 0.1\n",
    "    # decode необходим для конвертирования набора полученных байтов в строку\n",
    "    string = dev.read(255).decode()\n",
    "    return string\n",
    "\n",
    "def serial_send(dev, string):\n",
    "    # encode конвертирует строку в кодировке utf-8 в набор байтов \n",
    "    dev.write(string.encode('utf-8'))"
   ]
  },
  {
   "cell_type": "markdown",
   "metadata": {},
   "source": [
    "## Проверка работоспособности\n",
    "Для проверки работоспособности замкните выводы RXD и TXD у конвертера, после этого загрузите написанную вами программу с повторителем пакетов и запустите клетку еще раз. Если возникает ошибка, то скорее всего не хватает прав (на MacOS такой проблемы быть не должно):\n",
    "\n",
    "```sh\n",
    "sudo adduser YOUR_USER_NAME dialout\n",
    "sudo chmod a+rw /dev/ttyUSB0\n",
    "```"
   ]
  },
  {
   "cell_type": "code",
   "execution_count": null,
   "metadata": {},
   "outputs": [],
   "source": [
    "dev = serial_init(115200)\n",
    "serial_send(dev, \"Hello, world!\")\n",
    "ans = serial_recv(dev)\n",
    "print(ans)"
   ]
  },
  {
   "cell_type": "markdown",
   "metadata": {},
   "source": [
    "## Исполнительное устройство"
   ]
  },
  {
   "cell_type": "markdown",
   "metadata": {},
   "source": [
    "В этой части вам предлагается написать первую команду - управление светодиодом. Но прежде чем приступить к имплементации, необходимо определиться с форматом передачи данных между устройствами. Для простоты предлагается использовать два блока: первый хранит номер команды, второй - необходимые аргументы. Для этого объявите следующую структуру в `main.c`:\n",
    "\n",
    "```c\n",
    "typedef struct {\n",
    "    // Номер команды\n",
    "    uint8_t cmd;\n",
    "    // Необходимые параметры\n",
    "    uint8_t params[10];\n",
    "    // Флаг о том, что была принята новая команда\n",
    "    uint8_t active;\n",
    "} uart_req_t;\n",
    "\n",
    "```\n",
    "\n",
    "После этого объявите статическую глобальную переменную данного типа:\n",
    "\n",
    "```c\n",
    "static uart_req_t uart_req;\n",
    "```\n",
    "\n",
    "Теперь придется немного модифицировать обработчик для `USART1`: после начала приема пакетов необходимо первый байт записать в поле `cmd` структуры `uart_req`, а все остальные байты в `params` до тех пор, пока не будет выставлен флаг `IDLE`:\n",
    "\n",
    "```c\n",
    "\n",
    "void USART1_IRQHandler(void)\n",
    "{\n",
    "    static uint8_t pos = 0;\n",
    "\n",
    "    if (LL_USART_IsActiveFlag_RXNE(USART1)) {\n",
    "        /*\n",
    "         * Если pos равен 0, то байт нужно положить в cmd, \n",
    "         * иначе в params\n",
    "         * Не забудьте увеличить значение pos\n",
    "         */\n",
    "    }\n",
    "    if (LL_USART_IsActiveFlag_IDLE(USART1)) {\n",
    "        /*\n",
    "         * Если был выстален флаг IDLE, то прием завершился,\n",
    "         * необходимо сбросить pos и выставить флаг active\n",
    "         */\n",
    "        LL_USART_ClearFlag_IDLE(USART1);\n",
    "    }\n",
    "    return;\n",
    "}\n",
    "```\n",
    "\n",
    "Пришло время написать сам менеджер запросов:\n",
    "\n",
    "```c\n",
    "static void manage_requests(void) {\n",
    "    /*\n",
    "     * Этой переменной каждый обработчик присваивает статус после\n",
    "     * завершения работы: 1 - ошибка, 0 - нет ошибок\n",
    "     */\n",
    "    uint8_t is_ok = 0;\n",
    "\n",
    "    /* \n",
    "     * Если нет активных запросов - на выход\n",
    "     */\n",
    "    if (!uart_req.active)\n",
    "        return;\n",
    "\n",
    "    /* \n",
    "     * Здесь будут все обработчики, каждый со своим кодом\n",
    "     */\n",
    "    switch (uart_req.cmd) {\n",
    "    default:\n",
    "        is_ok = 1;\n",
    "        break;\n",
    "    }\n",
    "\n",
    "    /*\n",
    "     * Здесь отправляется ответ\n",
    "     * 0x30 необходимо, чтобы привести цифру к символу\n",
    "     */\n",
    "    while (!LL_USART_IsActiveFlag_TXE(USART1));\n",
    "    LL_USART_TransmitData8(USART1, is_ok + 0x30);\n",
    "\n",
    "    /*\n",
    "     * Сброс флага запроса\n",
    "     */\n",
    "    uart_req.active = 0;\n",
    "    return;\n",
    "}\n",
    "```\n",
    "\n",
    "Теперь добавьте его вызов в бесконечный цикл в `main`. "
   ]
  },
  {
   "cell_type": "markdown",
   "metadata": {},
   "source": [
    "## Первый обработчик - управление светодиодами"
   ]
  },
  {
   "cell_type": "markdown",
   "metadata": {},
   "source": [
    "После написания менеджера напишите обработчик, который будет управлять светодиодом. Пусть **символ** `8` будет кодом команды для включения/выключения восьмого светодиода на порту GPIOC. Если передан символ `0` в качестве аргумента, то необходимо выключить светодиод, если `1`, то включить.\n",
    "\n",
    "```c\n",
    "    // Этот case нужно добавить в менеджер запросов\n",
    "    case '8': {\n",
    "        if (uart_req.params[1] == '1')\n",
    "            LL_GPIO_SetOutputPin(GPIOC, LL_GPIO_PIN_8);\n",
    "        else\n",
    "            LL_GPIO_ResetOutputPin(GPIOC, LL_GPIO_PIN_8);\n",
    "        is_ok = 1;\n",
    "        break;\n",
    "    }\n",
    "```\n",
    "\n",
    "Загрузите прошивку и попробуйте следующей командой с компьютера зажечь синий светодиод:"
   ]
  },
  {
   "cell_type": "code",
   "execution_count": null,
   "metadata": {},
   "outputs": [],
   "source": [
    "serial_send(dev, \"8 1\")"
   ]
  },
  {
   "cell_type": "markdown",
   "metadata": {},
   "source": [
    "Напишите такой же обработчик для зеленого светодиода и зажгите его:"
   ]
  },
  {
   "cell_type": "code",
   "execution_count": null,
   "metadata": {},
   "outputs": [],
   "source": [
    "serial_send(dev, \"9 1\")"
   ]
  },
  {
   "cell_type": "markdown",
   "metadata": {},
   "source": [
    "Попробуйте потушить одновременно два светодиода"
   ]
  },
  {
   "cell_type": "code",
   "execution_count": null,
   "metadata": {},
   "outputs": [],
   "source": [
    "serial_send(dev, \"8 0\")\n",
    "serial_send(dev, \"9 0\")"
   ]
  },
  {
   "cell_type": "markdown",
   "metadata": {},
   "source": [
    "Потушился только один, потому что МК не умеет обрабатывать две команды за один раз, поэтому необходимо сначала дождаться ответа"
   ]
  },
  {
   "cell_type": "code",
   "execution_count": null,
   "metadata": {},
   "outputs": [],
   "source": [
    "serial_send(dev, \"8 1\")\n",
    "serial_recv(dev)\n",
    "serial_send(dev, \"9 0\")"
   ]
  },
  {
   "cell_type": "markdown",
   "metadata": {},
   "source": [
    "## Детектирование бита в музыкальном треке\n",
    "\n",
    "_Данный пункт является необязательным_\n",
    "\n",
    "Цель данного примера это показать, как можно использовать компьютер и МК для решения общей задачи. Задача состоит в том, чтобы детектировать ритм музыки. Производительности микроконтроллера не достаточно для обработки звука и тяжелых расчетов, но МК вполне сможет помигать светодиодом в нужные моменты. При желании данный пример можно улучшить, подключив [линейнуй шкалу](https://media2.24aul.ru/imgs/5936b78823bbeb387459fe4d/10-segmentnyy-led-indikator-lineynaya-shkala-4-tsveta-1-9800592.jpg) к МК. С 3 индикаторами можно уже сделать простой [спектроанализатор](https://www.youtube.com/watch?v=2m1PI0mqt0A). Вот так МК может работать в качестве исполнительного устройства."
   ]
  },
  {
   "cell_type": "markdown",
   "metadata": {},
   "source": [
    "Запустите код ниже. Идея состоит в том, чтобы захватывать звуковое окно каждые 1024 семпла и рассчитывать точки, в которых происходит резкое увеличение энергии в низких частотах. Для подробного изучения более простой версии алгоритма, можно обратиться к данной [статье](http://mziccard.me/2015/05/28/beats-detection-algorithms-1/)."
   ]
  },
  {
   "cell_type": "code",
   "execution_count": null,
   "metadata": {},
   "outputs": [],
   "source": [
    "class AudioFile:\n",
    "    chunk = 1024\n",
    "\n",
    "    def __init__(self, file):\n",
    "        \"\"\" Init audio stream \"\"\" \n",
    "        self.wf = wave.open(file, 'rb')\n",
    "        self.p = pyaudio.PyAudio()\n",
    "        self.stream = self.p.open(\n",
    "            format = self.p.get_format_from_width(self.wf.getsampwidth()),\n",
    "            channels = self.wf.getnchannels(),\n",
    "            rate = self.wf.getframerate(),\n",
    "            output = True\n",
    "        )\n",
    "        self.beatframe = np.empty(0)\n",
    "\n",
    "    def play(self, dev, max_samples):            \n",
    "        block_cnt = 0        \n",
    "        B, A = signal.butter(N=3, Wn=0.9, output='ba')\n",
    "        self.beatframe = np.empty(0)\n",
    "        self.peak = np.zeros(max_samples)\n",
    "        data = self.wf.readframes(self.chunk)\n",
    "        led_lock = 10\n",
    "        \n",
    "        while data != '' and block_cnt != max_samples:\n",
    "            block_cnt += 1\n",
    "                \n",
    "            self.stream.write(data)\n",
    "            data = self.wf.readframes(self.chunk)\n",
    "            sample = np.frombuffer(data, dtype=np.int16)\n",
    "            \n",
    "            # Extracting low band\n",
    "            fft = np.abs(np.fft.rfft(sample))\n",
    "            flg_diff = (fft[:30]**2).mean()/float(0xFFFFFFFF)\n",
    "            \n",
    "            # Filtering\n",
    "            self.beatframe = np.append(self.beatframe, flg_diff)   \n",
    "            fft_final = np.diff(self.beatframe)\n",
    "            if (block_cnt <= 13):\n",
    "                continue\n",
    "            fft_final = signal.filtfilt(B, A, fft_final)                \n",
    "            fft_final = np.where(fft_final < 0, 0, fft_final)\n",
    "            \n",
    "            # Detecting peaks     \n",
    "            fft_range_window = np.max(fft_final[-5:])/np.max(fft_final[-25:])\n",
    "            \n",
    "            if (fft_range_window >= 0.90 and led_lock >= 10):\n",
    "                serial_send(dev, \"8 1\")\n",
    "                led_lock = 0\n",
    "            else:\n",
    "                serial_send(dev, \"8 0\")\n",
    "            \n",
    "            led_lock += 1\n",
    "            \n",
    "        return fft_final\n",
    "\n",
    "    def close(self):\n",
    "        \"\"\" Graceful shutdown \"\"\" \n",
    "        self.stream.close()\n",
    "        self.p.terminate()"
   ]
  },
  {
   "cell_type": "markdown",
   "metadata": {},
   "source": [
    "Используйте файл `music.wav`, который лежит в папке с ноутбуком. Можно запустить любой другой, но он должен быть моно и в `wav` формате. 400 отсчетов по 1024 семпла хватит примерно на 10 сек проигрывания."
   ]
  },
  {
   "cell_type": "code",
   "execution_count": null,
   "metadata": {
    "scrolled": false
   },
   "outputs": [],
   "source": [
    "dev = serial_init(115200)\n",
    "a = AudioFile(\"music.wav\")\n",
    "fft = a.play(dev, 400)\n",
    "a.close()"
   ]
  },
  {
   "cell_type": "markdown",
   "metadata": {},
   "source": [
    "Можно посмотреть на отфильтрованный сигнал. Резкие скачки амплитудой >600 это и есть моменты, где резко меняется энергия в мелодии (drum kick)"
   ]
  },
  {
   "cell_type": "code",
   "execution_count": null,
   "metadata": {},
   "outputs": [],
   "source": [
    "plt.figure(figsize=(20,7))\n",
    "plt.plot(fft, label='filtered low pass')\n",
    "plt.axis('tight')\n",
    "plt.legend()\n",
    "plt.show()"
   ]
  },
  {
   "cell_type": "markdown",
   "metadata": {},
   "source": [
    "## Проверка нажатия кнопки\n",
    "\n",
    "Теперь напишите обработчик, который будет возвращать состояние кнопки. Пусть код этого запроса будет `0`. \n",
    "\n",
    "_Обработчик в_ `manage_requests` _должен получиться в одну строчку_ "
   ]
  },
  {
   "cell_type": "code",
   "execution_count": null,
   "metadata": {},
   "outputs": [],
   "source": [
    "serial_send(dev, '0')\n",
    "state = serial_recv(dev)\n",
    "if (state == '0'):\n",
    "    print(\"Button is not pressed:(\")\n",
    "else:\n",
    "    print(\"Button is pressed:)\")"
   ]
  },
  {
   "cell_type": "markdown",
   "metadata": {},
   "source": [
    "## Семисегментный индикатор\n",
    "\n",
    "Теперь напишите обработчик, который будет выводить на семисегментный дисплей число, переданное в качестве аргумента. Пусть код данной команды будет `1`. Далее сделайте счетчик, увеличающий значение каждую секунду. Используйте `sleep` для формирования задержки. Документация [тут](https://www.geeksforgeeks.org/sleep-in-python/)."
   ]
  },
  {
   "cell_type": "code",
   "execution_count": null,
   "metadata": {},
   "outputs": [],
   "source": [
    "# your_code"
   ]
  },
  {
   "cell_type": "markdown",
   "metadata": {},
   "source": [
    "## Энкодер"
   ]
  },
  {
   "cell_type": "markdown",
   "metadata": {},
   "source": [
    "Напишите обработчик для чтения текущего угла поворота энкодера. \n",
    "\n",
    "**Задание со звездочкой:** на основании этих данных попробуйте посчитать скорость вращения $\\omega$ и угловое ускорение $\\varepsilon$. Постройте графики\n",
    "\n"
   ]
  },
  {
   "cell_type": "code",
   "execution_count": null,
   "metadata": {},
   "outputs": [],
   "source": [
    "# your_code"
   ]
  },
  {
   "cell_type": "markdown",
   "metadata": {},
   "source": [
    "## ШИМ\n",
    "\n",
    "Напишите команду, с помощью которой можно менять яркость светодиодов\n",
    "\n",
    "**Задание со звездочкой:** используя код из примера с детектированием ритма, напишите программу, которая будет менять яркость светодиода в зависимости от интенсивности звукового сигнала"
   ]
  },
  {
   "cell_type": "code",
   "execution_count": null,
   "metadata": {},
   "outputs": [],
   "source": [
    "# your_code"
   ]
  }
 ],
 "metadata": {
  "kernelspec": {
   "display_name": "Python 3",
   "language": "python",
   "name": "python3"
  },
  "language_info": {
   "codemirror_mode": {
    "name": "ipython",
    "version": 3
   },
   "file_extension": ".py",
   "mimetype": "text/x-python",
   "name": "python",
   "nbconvert_exporter": "python",
   "pygments_lexer": "ipython3",
   "version": "3.7.0"
  }
 },
 "nbformat": 4,
 "nbformat_minor": 2
}
